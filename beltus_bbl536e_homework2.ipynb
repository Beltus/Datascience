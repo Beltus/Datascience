{
 "cells": [
  {
   "cell_type": "markdown",
   "metadata": {},
   "source": [
    "# HOME WORK CODE SOLUTIONS"
   ]
  },
  {
   "cell_type": "markdown",
   "metadata": {},
   "source": [
    "## Import Libraries"
   ]
  },
  {
   "cell_type": "code",
   "execution_count": 72,
   "metadata": {},
   "outputs": [],
   "source": [
    "## imports used in question 1\n",
    "from sklearn.feature_selection import mutual_info_regression\n",
    "from sklearn.linear_model import Ridge  #linear regression model\n",
    "from sklearn.feature_selection import RFE\n",
    "\n",
    "## imports used in question 2\n",
    "import numpy as np\n",
    "import pandas as pd \n",
    "from sklearn.feature_selection import mutual_info_classif\n",
    "from sklearn.preprocessing import StandardScaler\n",
    "from sklearn.linear_model import Ridge\n",
    "from sklearn.cluster import KMeans\n",
    "import matplotlib.pyplot as plt\n",
    "from scipy.spatial.distance import cdist\n",
    "from sklearn.metrics import silhouette_score\n",
    "\n",
    "## imports used in question 3\n",
    "from sklearn.linear_model import LogisticRegression\n",
    "from sklearn.tree import DecisionTreeClassifier\n",
    "from sklearn.svm import SVC\n",
    "from sklearn.neighbors import KNeighborsClassifier\n",
    "from sklearn.neural_network import MLPClassifier\n",
    "from sklearn.model_selection import train_test_split\n",
    "from sklearn.model_selection import cross_val_score #for scoring model\n",
    "from sklearn.model_selection import cross_val_predict\n",
    "from sklearn.metrics import accuracy_score\n",
    "from sklearn.model_selection import KFold\n",
    "from sklearn.model_selection import cross_validate\n",
    "from sklearn.svm import LinearSVC\n",
    "import warnings\n",
    "warnings.filterwarnings('ignore')\n"
   ]
  },
  {
   "cell_type": "markdown",
   "metadata": {},
   "source": [
    "# Problem 1"
   ]
  },
  {
   "cell_type": "code",
   "execution_count": 78,
   "metadata": {},
   "outputs": [],
   "source": [
    "def problem1(filename):  \n",
    "    #read file as dataframe\n",
    "    data = pd.read_csv(filename)\n",
    "    \n",
    "    ## seperate dataset into X-input and Y-target \n",
    "    #input feature matrix 30 X 8\n",
    "    X = data.iloc[:,2:]\n",
    "\n",
    "    #output target vector 30 x 1\n",
    "    Y = data.iloc[:, 1]\n",
    "    Y = pd.DataFrame(Y) \n",
    "    #convert string object column to float\n",
    "    Y[\"Calories Burned\"] = Y[\"Calories Burned\"].apply(lambda x:x.replace(',' , '')).astype(float)\n",
    "\n",
    "    #convert string object columns to float\n",
    "    X[\"Steps\"] = X[\"Steps\"].apply(lambda x : x.replace(',' , '')).astype(float)\n",
    "    X[\"Activity Calories\"] = X[\"Activity Calories\"].apply(lambda x : x.replace(',' , '')).astype(float)\n",
    "\n",
    "\n",
    "\n",
    "    #*************** Mutual Information Score between Features and Calories Burned*******************\n",
    "\n",
    "    # mutual score of each feature\n",
    "    mutual_scores = mutual_info_regression(X, Y)\n",
    "\n",
    "    #get indices of the first four highest mutual information score features\n",
    "    indices = np.argsort(mutual_scores)[::-1][:4]\n",
    "\n",
    "    # Output the feature names based on the indices\n",
    "    print(\"Selected Features having top mutual information scores\")\n",
    "\n",
    "    print(list(X.columns[indices]))\n",
    "\n",
    "\n",
    "    #***************** Recursive Feature Elimination with Ridge Regression ************** \n",
    "\n",
    "    #initialize ridge model object\n",
    "    estimator = Ridge()\n",
    "\n",
    "    #selector object initialization\n",
    "    selector = RFE(estimator, n_features_to_select= 4, step=1)\n",
    "\n",
    "    #fit the model and compute RFE\n",
    "    selector = selector.fit(X, Y)\n",
    "\n",
    "    # Output the feature names based on RFE\n",
    "    print(\" \\n Selected features by Recursive Feature Elimination\")\n",
    "    print(list(X.columns[selector.support_]))\n"
   ]
  },
  {
   "cell_type": "markdown",
   "metadata": {},
   "source": [
    "## Run Problem 1"
   ]
  },
  {
   "cell_type": "code",
   "execution_count": 79,
   "metadata": {},
   "outputs": [
    {
     "name": "stdout",
     "output_type": "stream",
     "text": [
      "Selected Features having top mutual information scores\n",
      "['Activity Calories', 'Minutes Fairly Active', 'Steps', 'Distance']\n",
      " \n",
      " Selected features by Recursive Feature Elimination\n",
      "['Distance', 'Minutes Lightly Active', 'Minutes Fairly Active', 'Minutes Very Active']\n"
     ]
    }
   ],
   "source": [
    "problem1(\"fitbit.csv\")"
   ]
  },
  {
   "cell_type": "markdown",
   "metadata": {},
   "source": [
    "# Problem 2"
   ]
  },
  {
   "cell_type": "code",
   "execution_count": 12,
   "metadata": {},
   "outputs": [],
   "source": [
    "\n",
    "def problem2(filename):\n",
    "\n",
    "    #read the file as dataframe\n",
    "    dataset = pd.read_csv(filename)\n",
    "    \n",
    "    dataset.head()\n",
    "    #drop ID column\n",
    "    data = dataset.drop(['ID'], axis = 1)\n",
    "    \n",
    "    #range of k cluster sizes \n",
    "    cluster_numbers = range(2 , 10)\n",
    "\n",
    "    #initialize standard scaler\n",
    "    scaler = StandardScaler()\n",
    "\n",
    "    #normalize dataset features\n",
    "    X = scaler.fit_transform(data)\n",
    "\n",
    "    #list of distortions or inertia\n",
    "    inertia_list = []\n",
    "\n",
    "    #list for silhouette score\n",
    "    silhouette_score_list = []\n",
    "\n",
    "    #loop through all cluster numbers\n",
    "    for k in cluster_numbers:\n",
    "\n",
    "        #group dataset into k-clusters\n",
    "        kmeans = KMeans(n_clusters = k)\n",
    "\n",
    "        kmeans.fit(X)\n",
    "\n",
    "        inertia_list.append(kmeans.inertia_)\n",
    "\n",
    "        silhouette_score_list.append(silhouette_score(X , kmeans.labels_ , \"euclidean\"))\n",
    "\n",
    "    #plot graph Inertia against Cluster size for Elbow method\n",
    "    plt.plot(cluster_numbers, inertia_list , color = 'green', marker = 'o')\n",
    "    plt.xlabel('Cluster Number')\n",
    "    plt.ylabel('Inertia or Distortion')\n",
    "    plt.title('Elbow Method')\n",
    "    plt.grid(True)\n",
    "    plt.show()\n",
    "\n",
    "\n",
    "    #Plot graph for Silhouette Score against cluster size\n",
    "\n",
    "    plt.plot(cluster_numbers, silhouette_score_list, color= 'blue' , marker = 'o')\n",
    "    plt.xlabel('Cluster Number')\n",
    "    plt.ylabel('silhouette_score')\n",
    "    plt.title('Silhouette Method')\n",
    "    plt.grid(True)\n",
    "\n",
    "    plt.show()\n",
    "\n",
    "    "
   ]
  },
  {
   "cell_type": "markdown",
   "metadata": {},
   "source": [
    "## Run problem 2"
   ]
  },
  {
   "cell_type": "code",
   "execution_count": 13,
   "metadata": {},
   "outputs": [
    {
     "data": {
      "image/png": "[encoded data removed]",
      "text/plain": [
       "<Figure size 432x288 with 1 Axes>"
      ]
     },
     "metadata": {
      "needs_background": "light"
     },
     "output_type": "display_data"
    },
    {
     "data": {
      "image/png": "[encoded data removed]",
      "text/plain": [
       "<Figure size 432x288 with 1 Axes>"
      ]
     },
     "metadata": {
      "needs_background": "light"
     },
     "output_type": "display_data"
    }
   ],
   "source": [
    "filename = \"customer.csv\"\n",
    "\n",
    "problem2(filename)"
   ]
  },
  {
   "cell_type": "markdown",
   "metadata": {},
   "source": [
    "# Problem 3"
   ]
  },
  {
   "cell_type": "markdown",
   "metadata": {},
   "source": [
    "## Problem 3 Helper Functions"
   ]
  },
  {
   "cell_type": "code",
   "execution_count": 113,
   "metadata": {},
   "outputs": [],
   "source": [
    "## ******Clean Dataset Function************\n",
    "def data_cleaning(data):\n",
    "    \n",
    "    '''\n",
    "    data : pandas Dataframe of training examples\n",
    "    returns: cleaned_version of the dataset with categorical features replaced by numeric values\n",
    "    '''\n",
    "    \n",
    "    dataset = data\n",
    "    \n",
    "    # list of column names of all categorical features\n",
    "    cat_columns = dataset.select_dtypes(include = ['object']).columns \n",
    "\n",
    "    #convert to numeric data\n",
    "    dataset[cat_columns] = dataset[cat_columns].astype('category').apply(lambda x:x.cat.codes)\n",
    "\n",
    "    return dataset\n"
   ]
  },
  {
   "cell_type": "code",
   "execution_count": 114,
   "metadata": {},
   "outputs": [],
   "source": [
    "\n",
    "def problem3(filename):\n",
    "\n",
    "    #read the dataset as dataframe\n",
    "    df = pd.read_csv(filename)\n",
    "    \n",
    "    df = df[df[\"TotalCharges\"] != \" \"]\n",
    "\n",
    "    ## seperate dataset into input features and output labels\n",
    "    #output labels\n",
    "    Y = pd.DataFrame(dt.iloc[:, -1])\n",
    "\n",
    "    #input feature matrix\n",
    "    X = pd.DataFrame(dt.iloc[:,: -1])\n",
    "\n",
    "    #covert numeric to categorical data\n",
    "    X = data_cleaning(X)\n",
    "\n",
    "    scaler = StandardScaler()\n",
    "    \n",
    "      \n",
    "    #normalize features for KNN model\n",
    "    X_norm = scaler.fit_transform(X)\n",
    "    \n",
    "    #split dataset\n",
    "    #X_train, X_test, Y_train, Y_test = train_test_split(X , Y , test_size = 0.3)\n",
    "\n",
    "\n",
    "    #initialize 5 fold cross validation with randomly split data\n",
    "    kf = KFold(n_splits = 5 , shuffle = True)\n",
    "\n",
    "\n",
    "\n",
    "    # ***************** Logistic Regression************************************************\n",
    "\n",
    "    LR = LogisticRegression(max_iter = 1000)\n",
    "\n",
    "    #Train and validate model\n",
    "    LR_score = cross_validate(LR , X_norm, Y.values.ravel(), scoring = 'accuracy', cv = kf, return_train_score = True)\n",
    "\n",
    "    LR_score = pd.DataFrame(LR_score)\n",
    "\n",
    "    train_score = np.sum(LR_score['train_score']) / len(LR_score['train_score'])\n",
    "    test_score = np.sum(LR_score['test_score']) / len(LR_score['test_score'])\n",
    "    \n",
    "    #print train and test score of logistic regression model\n",
    "    print(f\"model\\t\\t\\ttrain\\t\\t\\ttest\")\n",
    "    print(f\"LogisticRegression\\t{train_score}\\t{test_score}\")\n",
    "\n",
    "\n",
    "\n",
    "\n",
    "    # ***************** Decision Tree Classifier************************************************\n",
    "    #initialize model\n",
    "    DT_model = DecisionTreeClassifier()\n",
    "\n",
    "    #Train and validate model\n",
    "    DT_score = cross_validate(DT_model , X, Y.values.ravel(), scoring = 'accuracy', cv = kf, return_train_score = True)\n",
    "\n",
    "    #convert to Dataframe\n",
    "    DT_score = pd.DataFrame(DT_score)\n",
    "    train_score = np.sum(DT_score['train_score']) / len(DT_score['train_score'])\n",
    "    test_score = np.sum(DT_score['test_score']) / len(DT_score['test_score'])\n",
    "\n",
    "    #print train and test score of Decision Tree model\n",
    "\n",
    "    print(f\"DecisionTree\\t\\t{train_score}\\t\\t\\t{test_score}\")\n",
    "    \n",
    "    \n",
    "     # ***************** Linear Support Vector Machine Model ************************************************\n",
    "\n",
    "    #initialize model\n",
    "    SVC_model = LinearSVC()\n",
    "\n",
    "    #Train and validate model\n",
    "    SVC_score = cross_validate(SVC_model , X, Y.values.ravel(), scoring = 'accuracy', cv = kf, return_train_score = True)\n",
    "\n",
    "    #convert to Dataframe\n",
    "    SVC_score = pd.DataFrame(SVC_score)\n",
    "    train_score = np.sum(SVC_score['train_score']) / len(SVC_score['train_score'])\n",
    "    test_score = np.sum(SVC_score['test_score']) / len(SVC_score['test_score'])\n",
    "\n",
    "    #print train and test score of Support Vector Machine model\n",
    "\n",
    "    print(f\"LinearSVC\\t\\t{train_score}\\t{test_score}\")\n",
    "    \n",
    "    \n",
    "    \n",
    "    # ***************** K-Nearest Neighbor************************************************\n",
    "\n",
    "\n",
    "    #initialize model\n",
    "    KN_model = KNeighborsClassifier()\n",
    "  \n",
    "    #Train and validate model\n",
    "    KN_score = cross_validate(KN_model , X_norm, Y.values.ravel(), scoring = 'accuracy', cv = kf, return_train_score = True)\n",
    "\n",
    "    #convert to Dataframe\n",
    "    KN_score = pd.DataFrame(KN_score)\n",
    "    train_score = np.sum(KN_score['train_score']) / len(KN_score['train_score'])\n",
    "    test_score = np.sum(KN_score['test_score']) / len(KN_score['test_score'])\n",
    "\n",
    "    #print train and test score of K Nearest Neighbor model\n",
    "\n",
    "    print(f\"KNN\\t\\t\\t{train_score}\\t{test_score}\")\n",
    "\n",
    "\n",
    "    # ***************** Neural Network Model ************************************************\n",
    "\n",
    "    #initialize model\n",
    "    NN_model = MLPClassifier()\n",
    "\n",
    "    #Train and validate model\n",
    "    NN_score = cross_validate(NN_model , X, Y.values.ravel(), scoring = 'accuracy', cv = kf, return_train_score = True)\n",
    "\n",
    "    #convert to Dataframe\n",
    "    NN_score = pd.DataFrame(NN_score)\n",
    "    train_score = np.sum(NN_score['train_score']) / len(NN_score['train_score'])\n",
    "    test_score = np.sum(NN_score['test_score']) / len(NN_score['test_score'])\n",
    "\n",
    "    #print train and test score of Neural Network model\n",
    "\n",
    "    print(f\"MLPClassifier\\t\\t{train_score}\\t{test_score}\")\n",
    "\n",
    "   \n"
   ]
  },
  {
   "cell_type": "markdown",
   "metadata": {},
   "source": [
    "## Run Problem 3"
   ]
  },
  {
   "cell_type": "code",
   "execution_count": 112,
   "metadata": {},
   "outputs": [
    {
     "name": "stdout",
     "output_type": "stream",
     "text": [
      "model\t\t\ttrain\t\t\ttest\n",
      "LogisticRegression\t0.8052677195339866\t0.802073319246403\n",
      "DecisionTree\t\t1.0\t\t\t0.7268206819794826\n",
      "LinearSVC\t\t0.6610416412710383\t0.6584042720498096\n",
      "KNN\t\t\t0.8330966728498131\t0.751953452642106\n",
      "MLPClassifier\t\t0.6793287616477345\t0.6701632968256017\n"
     ]
    }
   ],
   "source": [
    "problem3('telco_customer_churn.csv')\n"
   ]
  },
  {
   "cell_type": "code",
   "execution_count": null,
   "metadata": {},
   "outputs": [],
   "source": []
  }
 ],
 "metadata": {
  "kernelspec": {
   "display_name": "Python 3",
   "language": "python",
   "name": "python3"
  },
  "language_info": {
   "codemirror_mode": {
    "name": "ipython",
    "version": 3
   },
   "file_extension": ".py",
   "mimetype": "text/x-python",
   "name": "python",
   "nbconvert_exporter": "python",
   "pygments_lexer": "ipython3",
   "version": "3.6.8"
  }
 },
 "nbformat": 4,
 "nbformat_minor": 2
}
